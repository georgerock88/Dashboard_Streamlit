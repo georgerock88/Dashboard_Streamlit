{
 "cells": [
  {
   "cell_type": "markdown",
   "id": "b4bcad11",
   "metadata": {},
   "source": [
    "# Exercícios \n",
    "\n",
    "Utilize os arquivos do **RECLAME AQUI** e crie um dashboard com algumas caracteristicas. \n",
    "\n",
    "Empresas: \n",
    "- Hapvida\n",
    "- Nagem\n",
    "- Ibyte\n",
    "\n",
    "O painel deve conter tais informações: \n",
    "\n",
    "1. Série temporal do número de reclamações. \n",
    "\n",
    "2. Frequência de reclamações por estado. \n",
    "\n",
    "3. Frequência de cada tipo de **STATUS**\n",
    "\n",
    "4. Distribuição do tamanho do texto (coluna **DESCRIÇÃO**) \n",
    "\n",
    "\n",
    "Alguns botões devem ser implementados no painel para operar filtros dinâmicos. Alguns exemplos:: \n",
    "\n",
    "1. Seletor da empresa para ser analisada. \n",
    "\n",
    "2. Seletor do estado. \n",
    "\n",
    "3. Seletor por **STATUS**\n",
    "\n",
    "4. Seletor de tamanho do texto \n",
    "\n",
    "Faça o deploy da aplicação. Dicas: \n",
    "\n",
    "https://www.youtube.com/watch?v=vw0I8i7QJRk&list=PLRFQn2r6xhgcDMhp9NCWMqDYGfeeYsn5m&index=16&t=252s\n",
    "\n",
    "https://www.youtube.com/watch?v=HKoOBiAaHGg&t=515s\n",
    "\n",
    "Exemplo do github\n",
    "https://github.com/jlb-gmail/streamlit_teste\n",
    "\n",
    "\n",
    "**OBSERVAÇÃO**\n",
    "\n",
    "A resposta do exercicio é o link do github e o link da aplicação. Coloque-os abaixo.  \n",
    "\n",
    "\n",
    "\n"
   ]
  },
  {
   "cell_type": "code",
   "execution_count": 1,
   "id": "9e4befa2",
   "metadata": {},
   "outputs": [
    {
     "name": "stderr",
     "output_type": "stream",
     "text": [
      "c:\\Users\\georg\\anaconda3\\Lib\\site-packages\\pandas\\core\\arrays\\masked.py:60: UserWarning: Pandas requires version '1.3.6' or newer of 'bottleneck' (version '1.3.5' currently installed).\n",
      "  from pandas.core import (\n"
     ]
    }
   ],
   "source": [
    "import pandas as pd "
   ]
  },
  {
   "cell_type": "code",
   "execution_count": 3,
   "id": "f98b4d42",
   "metadata": {},
   "outputs": [],
   "source": [
    "path_ibyte = r\"C:\\Users\\georg\\OneDrive - GEORGE R BENTO\\Cursos\\MBA - Ciências de Dados\\Dashboards Python\\Exercício 2\\RECLAMEAQUI_IBYTE.csv\"\n",
    "path_hapvida = r\"C:\\Users\\georg\\OneDrive - GEORGE R BENTO\\Cursos\\MBA - Ciências de Dados\\Dashboards Python\\Exercício 2\\RECLAMEAQUI_HAPVIDA.csv\"\n",
    "path_nagem = r\"C:\\Users\\georg\\OneDrive - GEORGE R BENTO\\Cursos\\MBA - Ciências de Dados\\Dashboards Python\\Exercício 2\\RECLAMEAQUI_NAGEM.csv\""
   ]
  },
  {
   "cell_type": "code",
   "execution_count": 5,
   "id": "dfcdc57e",
   "metadata": {},
   "outputs": [],
   "source": [
    "# Lendo o arquivo CSV\n",
    "df_ibyte = pd.read_csv(path_ibyte)\n",
    "df_hapvida = pd.read_csv(path_hapvida)\n",
    "df_nagem = pd.read_csv(path_nagem)\n",
    "\n"
   ]
  },
  {
   "cell_type": "code",
   "execution_count": 13,
   "id": "c5f92f70",
   "metadata": {},
   "outputs": [],
   "source": [
    "#Adicionando colunas com o nome da empresa\n",
    "df_ibyte[\"EMPRESA\"] = \"Ibyte\"\n",
    "df_hapvida[\"EMPRESA\"] = \"Hapvida\"\n",
    "df_nagem[\"EMPRESA\"] = \"Nagem\""
   ]
  },
  {
   "cell_type": "code",
   "execution_count": 14,
   "id": "cc98dc7d",
   "metadata": {},
   "outputs": [],
   "source": [
    "# Concatenando os três DataFrames em um único DataFrame\n",
    "df_unico = pd.concat([df_ibyte, df_hapvida, df_nagem], ignore_index=True)\n",
    "\n",
    "\n"
   ]
  },
  {
   "cell_type": "code",
   "execution_count": 19,
   "id": "d4cac36b",
   "metadata": {},
   "outputs": [
    {
     "data": {
      "text/html": [
       "<div>\n",
       "<style scoped>\n",
       "    .dataframe tbody tr th:only-of-type {\n",
       "        vertical-align: middle;\n",
       "    }\n",
       "\n",
       "    .dataframe tbody tr th {\n",
       "        vertical-align: top;\n",
       "    }\n",
       "\n",
       "    .dataframe thead th {\n",
       "        text-align: right;\n",
       "    }\n",
       "</style>\n",
       "<table border=\"1\" class=\"dataframe\">\n",
       "  <thead>\n",
       "    <tr style=\"text-align: right;\">\n",
       "      <th></th>\n",
       "      <th>ID</th>\n",
       "      <th>TEMA</th>\n",
       "      <th>LOCAL</th>\n",
       "      <th>TEMPO</th>\n",
       "      <th>CATEGORIA</th>\n",
       "      <th>STATUS</th>\n",
       "      <th>DESCRICAO</th>\n",
       "      <th>URL</th>\n",
       "      <th>ANO</th>\n",
       "      <th>MES</th>\n",
       "      <th>DIA</th>\n",
       "      <th>DIA_DO_ANO</th>\n",
       "      <th>SEMANA_DO_ANO</th>\n",
       "      <th>DIA_DA_SEMANA</th>\n",
       "      <th>TRIMETRES</th>\n",
       "      <th>CASOS</th>\n",
       "      <th>EMPRESA</th>\n",
       "    </tr>\n",
       "  </thead>\n",
       "  <tbody>\n",
       "    <tr>\n",
       "      <th>0</th>\n",
       "      <td>21898349</td>\n",
       "      <td>Quebraram a tela do meu Notebook</td>\n",
       "      <td>Hidrolândia - CE</td>\n",
       "      <td>2016-02-11</td>\n",
       "      <td>Ibyte - Loja Física&lt;-&gt;Informática</td>\n",
       "      <td>Resolvido</td>\n",
       "      <td>Em 05/10/2016 deixei meu Notebook para consert...</td>\n",
       "      <td>https://www.reclameaqui.com.br//ibyte-loja-fis...</td>\n",
       "      <td>2016</td>\n",
       "      <td>2</td>\n",
       "      <td>11</td>\n",
       "      <td>42</td>\n",
       "      <td>6</td>\n",
       "      <td>3</td>\n",
       "      <td>1</td>\n",
       "      <td>1</td>\n",
       "      <td>Ibyte</td>\n",
       "    </tr>\n",
       "    <tr>\n",
       "      <th>1</th>\n",
       "      <td>22581481</td>\n",
       "      <td>Solicitação de Cancelamento de Compra</td>\n",
       "      <td>Araxá - MG</td>\n",
       "      <td>2016-03-12</td>\n",
       "      <td>Não consigo fazer operação por telefone&lt;-&gt;Cana...</td>\n",
       "      <td>Em réplica</td>\n",
       "      <td>Prezados, efetuei uma compra no site www.ameri...</td>\n",
       "      <td>https://www.reclameaqui.com.br//ibyte-loja-fis...</td>\n",
       "      <td>2016</td>\n",
       "      <td>3</td>\n",
       "      <td>12</td>\n",
       "      <td>72</td>\n",
       "      <td>10</td>\n",
       "      <td>5</td>\n",
       "      <td>1</td>\n",
       "      <td>2</td>\n",
       "      <td>Ibyte</td>\n",
       "    </tr>\n",
       "    <tr>\n",
       "      <th>2</th>\n",
       "      <td>22579385</td>\n",
       "      <td>Inutilizarão a tela do meu notebook</td>\n",
       "      <td>Fortaleza - CE</td>\n",
       "      <td>2016-03-12</td>\n",
       "      <td>Problemas na Loja&lt;-&gt;Ibyte - Loja Física&lt;-&gt;Prod...</td>\n",
       "      <td>Respondida</td>\n",
       "      <td>Decidi conserta meu notebook que parou de inic...</td>\n",
       "      <td>https://www.reclameaqui.com.br//ibyte-loja-fis...</td>\n",
       "      <td>2016</td>\n",
       "      <td>3</td>\n",
       "      <td>12</td>\n",
       "      <td>72</td>\n",
       "      <td>10</td>\n",
       "      <td>5</td>\n",
       "      <td>1</td>\n",
       "      <td>2</td>\n",
       "      <td>Ibyte</td>\n",
       "    </tr>\n",
       "    <tr>\n",
       "      <th>3</th>\n",
       "      <td>21328791</td>\n",
       "      <td>Produto não faz o que vendedor informa!</td>\n",
       "      <td>Fortaleza - CE</td>\n",
       "      <td>2016-04-10</td>\n",
       "      <td>Ibyte - Loja Física&lt;-&gt;Impressoras&lt;-&gt;Produto er...</td>\n",
       "      <td>Em réplica</td>\n",
       "      <td>Venho através desde canal de reclamação expor ...</td>\n",
       "      <td>https://www.reclameaqui.com.br//ibyte-loja-fis...</td>\n",
       "      <td>2016</td>\n",
       "      <td>4</td>\n",
       "      <td>10</td>\n",
       "      <td>101</td>\n",
       "      <td>14</td>\n",
       "      <td>6</td>\n",
       "      <td>2</td>\n",
       "      <td>1</td>\n",
       "      <td>Ibyte</td>\n",
       "    </tr>\n",
       "    <tr>\n",
       "      <th>4</th>\n",
       "      <td>22608043</td>\n",
       "      <td>Ibyte não troca o produto</td>\n",
       "      <td>Fortaleza - CE</td>\n",
       "      <td>2016-05-12</td>\n",
       "      <td>Smartphone&lt;-&gt;Celulares e Smartphones&lt;-&gt;Blackfr...</td>\n",
       "      <td>Respondida</td>\n",
       "      <td>Comprei um celular na black Friday e com 4 dia...</td>\n",
       "      <td>https://www.reclameaqui.com.br//ibyte-loja-fis...</td>\n",
       "      <td>2016</td>\n",
       "      <td>5</td>\n",
       "      <td>12</td>\n",
       "      <td>133</td>\n",
       "      <td>19</td>\n",
       "      <td>3</td>\n",
       "      <td>2</td>\n",
       "      <td>2</td>\n",
       "      <td>Ibyte</td>\n",
       "    </tr>\n",
       "  </tbody>\n",
       "</table>\n",
       "</div>"
      ],
      "text/plain": [
       "         ID                                     TEMA             LOCAL  \\\n",
       "0  21898349         Quebraram a tela do meu Notebook  Hidrolândia - CE   \n",
       "1  22581481    Solicitação de Cancelamento de Compra        Araxá - MG   \n",
       "2  22579385      Inutilizarão a tela do meu notebook    Fortaleza - CE   \n",
       "3  21328791  Produto não faz o que vendedor informa!    Fortaleza - CE   \n",
       "4  22608043                Ibyte não troca o produto    Fortaleza - CE   \n",
       "\n",
       "        TEMPO                                          CATEGORIA      STATUS  \\\n",
       "0  2016-02-11                  Ibyte - Loja Física<->Informática   Resolvido   \n",
       "1  2016-03-12  Não consigo fazer operação por telefone<->Cana...  Em réplica   \n",
       "2  2016-03-12  Problemas na Loja<->Ibyte - Loja Física<->Prod...  Respondida   \n",
       "3  2016-04-10  Ibyte - Loja Física<->Impressoras<->Produto er...  Em réplica   \n",
       "4  2016-05-12  Smartphone<->Celulares e Smartphones<->Blackfr...  Respondida   \n",
       "\n",
       "                                           DESCRICAO  \\\n",
       "0  Em 05/10/2016 deixei meu Notebook para consert...   \n",
       "1  Prezados, efetuei uma compra no site www.ameri...   \n",
       "2  Decidi conserta meu notebook que parou de inic...   \n",
       "3  Venho através desde canal de reclamação expor ...   \n",
       "4  Comprei um celular na black Friday e com 4 dia...   \n",
       "\n",
       "                                                 URL   ANO  MES  DIA  \\\n",
       "0  https://www.reclameaqui.com.br//ibyte-loja-fis...  2016    2   11   \n",
       "1  https://www.reclameaqui.com.br//ibyte-loja-fis...  2016    3   12   \n",
       "2  https://www.reclameaqui.com.br//ibyte-loja-fis...  2016    3   12   \n",
       "3  https://www.reclameaqui.com.br//ibyte-loja-fis...  2016    4   10   \n",
       "4  https://www.reclameaqui.com.br//ibyte-loja-fis...  2016    5   12   \n",
       "\n",
       "   DIA_DO_ANO  SEMANA_DO_ANO  DIA_DA_SEMANA  TRIMETRES  CASOS EMPRESA  \n",
       "0          42              6              3          1      1   Ibyte  \n",
       "1          72             10              5          1      2   Ibyte  \n",
       "2          72             10              5          1      2   Ibyte  \n",
       "3         101             14              6          2      1   Ibyte  \n",
       "4         133             19              3          2      2   Ibyte  "
      ]
     },
     "execution_count": 19,
     "metadata": {},
     "output_type": "execute_result"
    }
   ],
   "source": [
    "# Exibindo o resultado\n",
    "df_unico.head()"
   ]
  },
  {
   "cell_type": "code",
   "execution_count": 21,
   "id": "e19b3b3e",
   "metadata": {},
   "outputs": [
    {
     "name": "stdout",
     "output_type": "stream",
     "text": [
      "Index(['ID', 'TEMA', 'LOCAL', 'TEMPO', 'CATEGORIA', 'STATUS', 'DESCRICAO',\n",
      "       'URL', 'ANO', 'MES', 'DIA', 'DIA_DO_ANO', 'SEMANA_DO_ANO',\n",
      "       'DIA_DA_SEMANA', 'TRIMETRES', 'CASOS', 'EMPRESA'],\n",
      "      dtype='object')\n"
     ]
    }
   ],
   "source": [
    "print(df_unico.columns)\n"
   ]
  },
  {
   "cell_type": "markdown",
   "id": "1bc5cf40",
   "metadata": {},
   "source": [
    "1. Análise de Serie temporal\n"
   ]
  },
  {
   "cell_type": "code",
   "execution_count": 23,
   "id": "5f2d05bb",
   "metadata": {},
   "outputs": [
    {
     "data": {
      "image/png": "[encoded data removed]",
      "text/plain": [
       "<Figure size 1200x600 with 1 Axes>"
      ]
     },
     "metadata": {},
     "output_type": "display_data"
    }
   ],
   "source": [
    "import matplotlib.pyplot as plt\n",
    "import pandas as pd\n",
    "\n",
    "# Converter as colunas de 'ANO', 'MES' e 'DIA' em um datetime\n",
    "df_unico['DATA'] = pd.to_datetime(df_unico[['ANO', 'MES', 'DIA']].rename(columns={'ANO': 'year', 'MES': 'month', 'DIA': 'day'}))\n",
    "\n",
    "# Agrupar por data e contar o número de reclamações por dia\n",
    "serie_temporal = df_unico.groupby('DATA').size()\n",
    "\n",
    "# Plotar a série temporal\n",
    "plt.figure(figsize=(12, 6))\n",
    "serie_temporal.plot()\n",
    "plt.title('Série Temporal do Número de Reclamações')\n",
    "plt.xlabel('Data')\n",
    "plt.ylabel('Número de Reclamações')\n",
    "plt.show()\n",
    "\n"
   ]
  },
  {
   "cell_type": "markdown",
   "id": "1474b033",
   "metadata": {},
   "source": [
    "2. Frequencia por estado"
   ]
  },
  {
   "cell_type": "code",
   "execution_count": 24,
   "id": "c7d4a793",
   "metadata": {},
   "outputs": [
    {
     "name": "stdout",
     "output_type": "stream",
     "text": [
      "LOCAL\n",
      "Fortaleza - CE                  819\n",
      "Recife - PE                     330\n",
      "Salvador - BA                   214\n",
      "Natal - RN                       91\n",
      "Jaboatão dos Guararapes - PE     82\n",
      "                               ... \n",
      "GOIANIA - GO                      1\n",
      "Sertãozinho - SP                  1\n",
      "Barretos - SP                     1\n",
      "Aparecida - SP                    1\n",
      "Lajedo - PE                       1\n",
      "Name: count, Length: 306, dtype: int64\n"
     ]
    }
   ],
   "source": [
    "# Agrupar por 'LOCAL' e contar o número de reclamações\n",
    "frequencia_por_estado = df_unico['LOCAL'].value_counts()\n",
    "\n",
    "# Exibir a distribuição\n",
    "print(frequencia_por_estado)\n"
   ]
  },
  {
   "cell_type": "markdown",
   "id": "ef27e1ff",
   "metadata": {},
   "source": [
    "3. Frequencia de cada tipo de estado"
   ]
  },
  {
   "cell_type": "code",
   "execution_count": 25,
   "id": "25b0c5aa",
   "metadata": {},
   "outputs": [
    {
     "name": "stdout",
     "output_type": "stream",
     "text": [
      "STATUS\n",
      "Respondida        1050\n",
      "Resolvido          735\n",
      "Não respondida     644\n",
      "Em réplica         334\n",
      "Não resolvido      253\n",
      "Name: count, dtype: int64\n"
     ]
    }
   ],
   "source": [
    "# Agrupar por 'STATUS' e contar o número de ocorrências\n",
    "frequencia_por_status = df_unico['STATUS'].value_counts()\n",
    "\n",
    "# Exibir a distribuição\n",
    "print(frequencia_por_status)\n"
   ]
  },
  {
   "cell_type": "markdown",
   "id": "9e4562f2",
   "metadata": {},
   "source": [
    "4. Distribuição do tamanho do texto (coluna DESCRIÇÃO)"
   ]
  },
  {
   "cell_type": "code",
   "execution_count": 26,
   "id": "92baf5c6",
   "metadata": {},
   "outputs": [
    {
     "data": {
      "image/png": "[encoded data removed]",
      "text/plain": [
       "<Figure size 1200x600 with 1 Axes>"
      ]
     },
     "metadata": {},
     "output_type": "display_data"
    }
   ],
   "source": [
    "# Calcular o tamanho do texto em cada linha da coluna 'DESCRICAO'\n",
    "df_unico['TAMANHO_DESCRICAO'] = df_unico['DESCRICAO'].apply(len)\n",
    "\n",
    "# Plotar o histograma do tamanho das descrições\n",
    "plt.figure(figsize=(12, 6))\n",
    "df_unico['TAMANHO_DESCRICAO'].hist(bins=30)\n",
    "plt.title('Distribuição do Tamanho das Descrições')\n",
    "plt.xlabel('Tamanho do Texto')\n",
    "plt.ylabel('Frequência')\n",
    "plt.show()\n"
   ]
  },
  {
   "cell_type": "markdown",
   "id": "1a716203",
   "metadata": {},
   "source": [
    "CRIANDO O PAINEL NO STREAMLIT"
   ]
  },
  {
   "cell_type": "code",
   "execution_count": 27,
   "id": "5791b7b2",
   "metadata": {},
   "outputs": [],
   "source": [
    "import streamlit as st "
   ]
  },
  {
   "cell_type": "code",
   "execution_count": 28,
   "id": "e73b42e9",
   "metadata": {},
   "outputs": [
    {
     "name": "stderr",
     "output_type": "stream",
     "text": [
      "2024-10-06 14:02:37.611 WARNING streamlit.runtime.scriptrunner_utils.script_run_context: Thread 'MainThread': missing ScriptRunContext! This warning can be ignored when running in bare mode.\n",
      "2024-10-06 14:02:37.925 \n",
      "  \u001b[33m\u001b[1mWarning:\u001b[0m to view this Streamlit app on a browser, run it with the following\n",
      "  command:\n",
      "\n",
      "    streamlit run c:\\Users\\georg\\anaconda3\\Lib\\site-packages\\ipykernel_launcher.py [ARGUMENTS]\n",
      "2024-10-06 14:02:37.927 Thread 'MainThread': missing ScriptRunContext! This warning can be ignored when running in bare mode.\n"
     ]
    },
    {
     "data": {
      "text/plain": [
       "DeltaGenerator()"
      ]
     },
     "execution_count": 28,
     "metadata": {},
     "output_type": "execute_result"
    }
   ],
   "source": [
    "st.title('Trabalho Dashboard com Python')"
   ]
  }
 ],
 "metadata": {
  "hide_input": false,
  "kernelspec": {
   "display_name": "base",
   "language": "python",
   "name": "python3"
  },
  "language_info": {
   "codemirror_mode": {
    "name": "ipython",
    "version": 3
   },
   "file_extension": ".py",
   "mimetype": "text/x-python",
   "name": "python",
   "nbconvert_exporter": "python",
   "pygments_lexer": "ipython3",
   "version": "3.11.5"
  },
  "toc": {
   "base_numbering": 1,
   "nav_menu": {},
   "number_sections": true,
   "sideBar": true,
   "skip_h1_title": false,
   "title_cell": "Table of Contents",
   "title_sidebar": "Contents",
   "toc_cell": false,
   "toc_position": {},
   "toc_section_display": true,
   "toc_window_display": false
  }
 },
 "nbformat": 4,
 "nbformat_minor": 5
}
